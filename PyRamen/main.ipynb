{
 "cells": [
  {
   "cell_type": "markdown",
   "metadata": {},
   "source": [
    "### PyRamen Homework ###"
   ]
  },
  {
   "cell_type": "code",
   "execution_count": 1,
   "metadata": {},
   "outputs": [],
   "source": [
    "'''PyRamen Homework\n",
    "that was pretty intense but fun to better understand the importance of running a nested for loop\n",
    "'''\n",
    "\n",
    "# Import libraries\n",
    "from pathlib import Path\n",
    "import csv"
   ]
  },
  {
   "cell_type": "markdown",
   "metadata": {},
   "source": [
    "### Read the data ###"
   ]
  },
  {
   "cell_type": "code",
   "execution_count": 2,
   "metadata": {},
   "outputs": [],
   "source": [
    "# Set file paths for menu_data.csv and sales_data.csv\n",
    "menu_filepath = Path('menu_data.csv')\n",
    "sales_filepath = Path('sales_data.csv')\n",
    "\n",
    "# Initialize list objects to hold our menu and sales data\n",
    "menu = []\n",
    "sales = []\n",
    "\n",
    "# Read in the menu data into the menu list\n",
    "with open(menu_filepath, 'r') as menu_file:\n",
    "    menu_file = csv.reader(menu_file, delimiter= ',')\n",
    "    \n",
    "    #Skip the first row/header from the data set\n",
    "    header = next(menu_file)\n",
    "    \n",
    "    #Start the for loop into menu and append every row to the menu list => becoming a list of lists\n",
    "    for item in menu_file:\n",
    "        menu.append(item)\n",
    "\n",
    "\n",
    "# Read in the sales data into the sales list\n",
    "with  open(sales_filepath, 'r') as sales_file:\n",
    "    sales_file = csv.reader(sales_file, delimiter= ',')\n",
    "    \n",
    "    #Skip the first row/header from the data set\n",
    "    header = next(sales_file)    \n",
    "    \n",
    "    #Start the for loop into menu and append every row to the menu list => becoming a list of lists\n",
    "    for item in sales_file:\n",
    "        sales.append(item)"
   ]
  },
  {
   "cell_type": "markdown",
   "metadata": {},
   "source": [
    "### Manipulate the Data ###"
   ]
  },
  {
   "cell_type": "code",
   "execution_count": 3,
   "metadata": {},
   "outputs": [
    {
     "name": "stdout",
     "output_type": "stream",
     "text": [
      "74124\n"
     ]
    }
   ],
   "source": [
    " # Initialize dict object to hold our key-value pairs of items and metrics\n",
    "report = {}\n",
    "menu_item_list = []\n",
    "\n",
    "# Initialize a row counter variable + initialize Sales variables\n",
    "row_count = 0\n",
    "\n",
    "# Loop over every row in the sales list object \n",
    "for sales_row in sales:\n",
    "    \n",
    "    # Initialize sales data variables\n",
    "    quantity = int(sales_row[3])\n",
    "    sales_item = sales_row[4]\n",
    "    \n",
    "    # If the item value not in the report, add it as a new entry with initialized metrics\n",
    "    if sales_item not in report:   \n",
    "        report[sales_item] = {\n",
    "            \"01-count\": 0,\n",
    "            \"02-revenue\": 0,\n",
    "            \"03-cogs\": 0,\n",
    "            \"04-profit\": 0,\n",
    "        }\n",
    "\n",
    "    # For every row in our sales data, loop over the menu records to determine a match   \n",
    "    for menu_row in menu:\n",
    "        \n",
    "        # Item,Category,Description,Price,Cost\n",
    "        # Initialize menu data variables        \n",
    "        menu_item = menu_row[0]\n",
    "        price = float(menu_row[3])\n",
    "        cost = float(menu_row[4])\n",
    "        profit = price - cost\n",
    "        \n",
    "        # create a clean list of items on the menu\n",
    "        if menu_item not in menu_item_list:\n",
    "            menu_item_list.append(menu_item)\n",
    "        \n",
    "        \n",
    "        # If the item value in our sales data is equal to any of the items in the menu\n",
    "        # then begin tracking metrics for that item\n",
    "        if sales_item == menu_item:\n",
    "            \n",
    "            # Cumulatively add up the metrics for each item key\n",
    "            report[sales_item][\"01-count\"] += quantity\n",
    "            report[sales_item][\"02-revenue\"] += price * quantity\n",
    "            report[sales_item][\"03-cogs\"] += cost * quantity\n",
    "            report[sales_item][\"04-profit\"] += profit * quantity\n",
    "                \n",
    "    #Print a error message if the sales item is not listed on the menu  \n",
    "    if sales_item not in menu_item_list:\n",
    "        print(f\"{sales_item} does not equal {menu_item_list}! NO MATCH!\")\n",
    "        \n",
    "    # Increment the row counter by 1\n",
    "    row_count += 1\n",
    "    \n",
    "# Print total number of records in sales data\n",
    "print(row_count)\n",
    "\n",
    "# Write out report to a text file (won't appear on the command line output)\n",
    "    # Set the path for the output file in text format  \n",
    "output_path = Path('PyRamen_Analysis.txt')\n",
    "\n",
    "    # Open the output path (writable) as a file and write each key-values pair \n",
    "    # by looping into the report dict and using PRINT the header and metrics using the funtion Print\n",
    "with open (output_path, 'w') as txtfile:\n",
    "    for key , value in report.items():\n",
    "        print(f'{key} : {value}',  file=txtfile)"
   ]
  }
 ],
 "metadata": {
  "kernelspec": {
   "display_name": "Python 3",
   "language": "python",
   "name": "python3"
  },
  "language_info": {
   "codemirror_mode": {
    "name": "ipython",
    "version": 3
   },
   "file_extension": ".py",
   "mimetype": "text/x-python",
   "name": "python",
   "nbconvert_exporter": "python",
   "pygments_lexer": "ipython3",
   "version": "3.7.9"
  }
 },
 "nbformat": 4,
 "nbformat_minor": 4
}
