{
 "cells": [
  {
   "cell_type": "code",
   "execution_count": 1,
   "metadata": {},
   "outputs": [],
   "source": [
    "#Import Path from Pathlib and Import csv library\n",
    "from pathlib import Path\n",
    "import csv"
   ]
  },
  {
   "cell_type": "code",
   "execution_count": 2,
   "metadata": {},
   "outputs": [],
   "source": [
    "# Set the file path\n",
    "budget_data_path = Path('budget_data.csv')"
   ]
  },
  {
   "cell_type": "code",
   "execution_count": 3,
   "metadata": {},
   "outputs": [
    {
     "name": "stdout",
     "output_type": "stream",
     "text": [
      "Financial Analysis\n",
      "------------------\n",
      "Total Months: 86\n",
      "Total: $38382578\n",
      "Average Change: $-2315.12\n",
      "Greatest Increase in Profits: Feb-2012 ($1926159)\n",
      "Greatest Decrease in Profits: Sep-2013 ($-2196167)\n"
     ]
    }
   ],
   "source": [
    "# Open the csv file as an object\n",
    "with open (budget_data_path, 'r') as csvdatafile:\n",
    "        \n",
    "    # Pass in the csv file to the csv.reader() function with ',' as the delmiter and store the data in the variable csvdatareader\n",
    "    csvdatareader = csv.reader(csvdatafile, delimiter=',')\n",
    "   \n",
    "    # Initialize the metrics we will need - variables\n",
    "    total_pnl = 0\n",
    "    num_month = 0\n",
    "    avg_pnl_changes = 0\n",
    "    max_pnl_changes = 0\n",
    "    min_pnl_changes = 0\n",
    "    current_pnl = []\n",
    "    previous_pnl = []\n",
    "    changes = {}\n",
    "    Change = 0\n",
    "\n",
    "    # Skip the header of the file and move to the next row\n",
    "    header = next (csvdatareader)\n",
    "    \n",
    "    #Set the index to 0 before starting the loop\n",
    "    index = 0\n",
    "    \n",
    "    # Loop through the data :\n",
    "    # Using a condition to create a \"shift\" allowing to start and store the value for \"previous_pnl\"\n",
    "    for pnl in csvdatareader:\n",
    "        if index == 0:\n",
    "            # add the pnl to the list current_pnl\n",
    "            current_pnl.append(pnl[1])\n",
    "            # count month\n",
    "            num_month += 1\n",
    "            # sum Pnl\n",
    "            total_pnl += int(pnl[1])\n",
    "            index += 1\n",
    "        else:\n",
    "            # add the last pnl added to \"current_pnl\" list which will become our previous PnL\n",
    "            previous_pnl.append(current_pnl[-1])\n",
    "            # add the pnl to the list \"current_pnl\"\n",
    "            current_pnl.append(pnl[1])\n",
    "            #calculate the increase/decrease in Pnl between the two months\n",
    "            change = int(current_pnl[-1]) - int(previous_pnl[-1]) \n",
    "            # add the result to the Dict \"changes\" - to keep both dates and PnL change tied together\n",
    "            changes[pnl[0]] = int(change)\n",
    "            # continue to count months\n",
    "            num_month += 1\n",
    "            # continue to sum the PnL\n",
    "            total_pnl += int(pnl[1])\n",
    "            index += 1\n",
    "    \n",
    "    # proceed with the necessary calculation (outside the loop)\n",
    "    sum_changes = sum(changes.values())\n",
    "    avg_pnl_changes = round(sum_changes / len(changes), 2)\n",
    "    max_pnl_changes = max(changes, key=changes.get)\n",
    "    min_pnl_changes = min(changes, key=changes.get)\n",
    "    \n",
    "    #Print the results with the correct formating\n",
    "    print(\"Financial Analysis\")\n",
    "    print(\"------------------\")\n",
    "    print(f'Total Months: {num_month}')\n",
    "    print(f'Total: ${total_pnl}')\n",
    "    print(f'Average Change: ${avg_pnl_changes}')\n",
    "    print(f'Greatest Increase in Profits: {max_pnl_changes} (${changes[max_pnl_changes]})')\n",
    "    print(f'Greatest Decrease in Profits: {min_pnl_changes} (${changes[min_pnl_changes]})')\n",
    "    \n",
    "# Set the path for the output file in text format  \n",
    "output_path = Path('Financial_Analysis.txt')\n",
    "\n",
    "# Open the output path (writable) as a file and add the header and metrics using the funtion Print\n",
    "with open (output_path, 'w') as txtfile:\n",
    "    print(\"Financial Analysis\", file=txtfile)\n",
    "    print(\"------------------\", file=txtfile)\n",
    "    print(f'Total Months: {num_month}', file=txtfile )\n",
    "    print(f'Total: ${total_pnl}', file=txtfile)\n",
    "    print(f'Average Change: ${avg_pnl_changes}', file=txtfile)\n",
    "    print(f'Greatest Increase in Profits: {max_pnl_changes} (${changes[max_pnl_changes]})', file=txtfile)\n",
    "    print(f'Greatest Decrease in Profits: {min_pnl_changes} (${changes[min_pnl_changes]})', file=txtfile)\n"
   ]
  },
  {
   "cell_type": "code",
   "execution_count": null,
   "metadata": {},
   "outputs": [],
   "source": []
  }
 ],
 "metadata": {
  "kernelspec": {
   "display_name": "Python 3",
   "language": "python",
   "name": "python3"
  },
  "language_info": {
   "codemirror_mode": {
    "name": "ipython",
    "version": 3
   },
   "file_extension": ".py",
   "mimetype": "text/x-python",
   "name": "python",
   "nbconvert_exporter": "python",
   "pygments_lexer": "ipython3",
   "version": "3.7.9"
  }
 },
 "nbformat": 4,
 "nbformat_minor": 4
}
